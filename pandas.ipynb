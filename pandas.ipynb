{
  "nbformat": 4,
  "nbformat_minor": 0,
  "metadata": {
    "orig_nbformat": 4,
    "language_info": {
      "name": "python",
      "version": "3.9.7",
      "mimetype": "text/x-python",
      "codemirror_mode": {
        "name": "ipython",
        "version": 3
      },
      "pygments_lexer": "ipython3",
      "nbconvert_exporter": "python",
      "file_extension": ".py"
    },
    "kernelspec": {
      "name": "python3",
      "display_name": "Python 3.9.7 64-bit"
    },
    "interpreter": {
      "hash": "4cd7ab41f5fca4b9b44701077e38c5ffd31fe66a6cab21e0214b68d958d0e462"
    },
    "colab": {
      "name": "pandas.ipynb",
      "provenance": []
    }
  },
  "cells": [
    {
      "cell_type": "markdown",
      "metadata": {
        "id": "tsny5SX3qE6P"
      },
      "source": [
        "# pandas\n",
        "Disponível no [kaggle](https://www.kaggle.com/learn/pandas)"
      ]
    },
    {
      "cell_type": "code",
      "metadata": {
        "id": "rrhmSGieqE6V"
      },
      "source": [
        "import pandas as pd"
      ],
      "execution_count": 1,
      "outputs": []
    },
    {
      "cell_type": "markdown",
      "metadata": {
        "id": "V0cqgNpcqE6W"
      },
      "source": [
        "Em pandas, __DataFrame__ e __Series__ são objetos essenciais"
      ]
    },
    {
      "cell_type": "markdown",
      "metadata": {
        "id": "tmKjnLOkqE6X"
      },
      "source": [
        "## DataFrame\n",
        "- tabela\n",
        "- matriz com entradas individuais, cada uma com um determinado valor\n",
        "- cada entrada corresponde a uma linha (registro) e coluna"
      ]
    },
    {
      "cell_type": "code",
      "metadata": {
        "id": "Ay5GSDadqE6X",
        "outputId": "ea3a303d-355e-4677-9436-b3a03bcc52a7",
        "colab": {
          "base_uri": "https://localhost:8080/",
          "height": 110
        }
      },
      "source": [
        "pd.DataFrame({'Yes': [50, 21], 'No': [131, 2]})"
      ],
      "execution_count": 2,
      "outputs": [
        {
          "output_type": "execute_result",
          "data": {
            "text/html": [
              "<div>\n",
              "<style scoped>\n",
              "    .dataframe tbody tr th:only-of-type {\n",
              "        vertical-align: middle;\n",
              "    }\n",
              "\n",
              "    .dataframe tbody tr th {\n",
              "        vertical-align: top;\n",
              "    }\n",
              "\n",
              "    .dataframe thead th {\n",
              "        text-align: right;\n",
              "    }\n",
              "</style>\n",
              "<table border=\"1\" class=\"dataframe\">\n",
              "  <thead>\n",
              "    <tr style=\"text-align: right;\">\n",
              "      <th></th>\n",
              "      <th>Yes</th>\n",
              "      <th>No</th>\n",
              "    </tr>\n",
              "  </thead>\n",
              "  <tbody>\n",
              "    <tr>\n",
              "      <th>0</th>\n",
              "      <td>50</td>\n",
              "      <td>131</td>\n",
              "    </tr>\n",
              "    <tr>\n",
              "      <th>1</th>\n",
              "      <td>21</td>\n",
              "      <td>2</td>\n",
              "    </tr>\n",
              "  </tbody>\n",
              "</table>\n",
              "</div>"
            ],
            "text/plain": [
              "   Yes   No\n",
              "0   50  131\n",
              "1   21    2"
            ]
          },
          "metadata": {},
          "execution_count": 2
        }
      ]
    },
    {
      "cell_type": "markdown",
      "metadata": {
        "id": "bg-0wWb4qgZG"
      },
      "source": [
        "- _DataFrame's_ podem conter dados que não são inteiros\n",
        "\n",
        "- Geralmente o construtor ```pd.DataFrame()``` gera um objeto _DataFrame_.\n",
        "\n",
        "- A sintaxe costuma possuir um dicionário, sendo que suas chaves representam as colunas, e seus valores estão em uma lista de entradas.\n",
        "\n",
        "  - Quando necessário, é possível também nomear as linhas do _DataFrame_, utilizando ```index``` após o dicionário"
      ]
    },
    {
      "cell_type": "code",
      "metadata": {
        "id": "3x1x8Mt_qmkl",
        "outputId": "3291c561-f719-4bd4-a057-96b6c06b15a7",
        "colab": {
          "base_uri": "https://localhost:8080/",
          "height": 110
        }
      },
      "source": [
        "pd.DataFrame({'Bob': ['I liked it.', 'It was awful.'],\n",
        "              'Sue': ['Pretty good.', 'Bland.']},\n",
        "             index = ['Product A', 'Product B'])"
      ],
      "execution_count": 4,
      "outputs": [
        {
          "output_type": "execute_result",
          "data": {
            "text/html": [
              "<div>\n",
              "<style scoped>\n",
              "    .dataframe tbody tr th:only-of-type {\n",
              "        vertical-align: middle;\n",
              "    }\n",
              "\n",
              "    .dataframe tbody tr th {\n",
              "        vertical-align: top;\n",
              "    }\n",
              "\n",
              "    .dataframe thead th {\n",
              "        text-align: right;\n",
              "    }\n",
              "</style>\n",
              "<table border=\"1\" class=\"dataframe\">\n",
              "  <thead>\n",
              "    <tr style=\"text-align: right;\">\n",
              "      <th></th>\n",
              "      <th>Bob</th>\n",
              "      <th>Sue</th>\n",
              "    </tr>\n",
              "  </thead>\n",
              "  <tbody>\n",
              "    <tr>\n",
              "      <th>Product A</th>\n",
              "      <td>I liked it.</td>\n",
              "      <td>Pretty good.</td>\n",
              "    </tr>\n",
              "    <tr>\n",
              "      <th>Product B</th>\n",
              "      <td>It was awful.</td>\n",
              "      <td>Bland.</td>\n",
              "    </tr>\n",
              "  </tbody>\n",
              "</table>\n",
              "</div>"
            ],
            "text/plain": [
              "                     Bob           Sue\n",
              "Product A    I liked it.  Pretty good.\n",
              "Product B  It was awful.        Bland."
            ]
          },
          "metadata": {},
          "execution_count": 4
        }
      ]
    },
    {
      "cell_type": "markdown",
      "metadata": {
        "id": "vFohtK9VrxTv"
      },
      "source": [
        "## Series\n",
        "- sequência de valores\n",
        "- lista"
      ]
    },
    {
      "cell_type": "code",
      "metadata": {
        "id": "GRfWmsEnsDvx",
        "outputId": "d1dfea17-c0d6-4ece-d730-da2552ccb062",
        "colab": {
          "base_uri": "https://localhost:8080/"
        }
      },
      "source": [
        "pd.Series([number for number in range(1, 5)])"
      ],
      "execution_count": 6,
      "outputs": [
        {
          "output_type": "execute_result",
          "data": {
            "text/plain": [
              "0    1\n",
              "1    2\n",
              "2    3\n",
              "3    4\n",
              "dtype: int64"
            ]
          },
          "metadata": {},
          "execution_count": 6
        }
      ]
    },
    {
      "cell_type": "markdown",
      "metadata": {
        "id": "8iYxAMNhsgl2"
      },
      "source": [
        "- _Series_ é um _DataFrame_ de coluna única\n",
        "- não possui _name_ para colunas, mas sim, geral"
      ]
    },
    {
      "cell_type": "code",
      "metadata": {
        "id": "zGeEEBfUsvyo",
        "outputId": "9e131215-0afc-4e65-88cf-e402ee7c43f9",
        "colab": {
          "base_uri": "https://localhost:8080/"
        }
      },
      "source": [
        "pd.Series([30, 40, 45],\n",
        "          index = ['2015 Sales', '2016 Sales', '2017 Sales'],\n",
        "          name = 'Product A')"
      ],
      "execution_count": 9,
      "outputs": [
        {
          "output_type": "execute_result",
          "data": {
            "text/plain": [
              "2015 Sales    30\n",
              "2016 Sales    40\n",
              "2017 Sales    45\n",
              "Name: Product A, dtype: int64"
            ]
          },
          "metadata": {},
          "execution_count": 9
        }
      ]
    },
    {
      "cell_type": "markdown",
      "metadata": {
        "id": "jyA31DZpuela"
      },
      "source": [
        "### Leitura de Dados\n",
        "- dados podem ser armazenados de vários formas\n",
        "  - o exemplo mais básico é o formato CSV"
      ]
    },
    {
      "cell_type": "code",
      "metadata": {
        "id": "GkbqUaIOv8dS"
      },
      "source": [
        "csv_file = open('winemag-data-130k-v2.csv', 'w')\n",
        "csv_file.write(\"\"\"Product A,Product B,Product C\n",
        "30,21,9\n",
        "35,34,1\n",
        "41,11,11\"\"\")\n",
        "csv_file.close()"
      ],
      "execution_count": 29,
      "outputs": []
    },
    {
      "cell_type": "code",
      "metadata": {
        "id": "7d8pY0TzxpmH",
        "outputId": "b124d89c-6f84-4e78-c2d3-d73aa1ce3e49",
        "colab": {
          "base_uri": "https://localhost:8080/"
        }
      },
      "source": [
        "csv_file = open('winemag-data-130k-v2.csv', 'r')\n",
        "print(csv_file.readlines())"
      ],
      "execution_count": 30,
      "outputs": [
        {
          "output_type": "stream",
          "name": "stdout",
          "text": [
            "['Product A,Product B,Product C\\n', '30,21,9\\n', '35,34,1\\n', '41,11,11']\n"
          ]
        }
      ]
    },
    {
      "cell_type": "markdown",
      "metadata": {
        "id": "Sa_lulp_zpeY"
      },
      "source": [
        "- CSV é uma tabela com valores separados por vírgula\n",
        "- ```pd.read_csv()``` lê dados de um CSV"
      ]
    },
    {
      "cell_type": "code",
      "metadata": {
        "id": "JuBeF0VXwQBv"
      },
      "source": [
        "wine_reviews = pd.read_csv(\"winemag-data-130k-v2.csv\")"
      ],
      "execution_count": 36,
      "outputs": []
    },
    {
      "cell_type": "markdown",
      "metadata": {
        "id": "3sufT_xP0Eaf"
      },
      "source": [
        "- o atributo ```shape``` verifica o tamanho do _DataFrame_ resultante\n",
        "  - ele retorna ```(quantide de linhas, quantidade de colunas)```"
      ]
    },
    {
      "cell_type": "code",
      "metadata": {
        "id": "IpuiX_Ju0Xsj",
        "outputId": "d07b3e41-5592-4641-bf86-e36634e2441c",
        "colab": {
          "base_uri": "https://localhost:8080/"
        }
      },
      "source": [
        "wine_reviews.shape"
      ],
      "execution_count": 37,
      "outputs": [
        {
          "output_type": "execute_result",
          "data": {
            "text/plain": [
              "(3, 3)"
            ]
          },
          "metadata": {},
          "execution_count": 37
        }
      ]
    },
    {
      "cell_type": "markdown",
      "metadata": {
        "id": "61n3h9BH07AK"
      },
      "source": [
        "- o comando ```head()``` examina o conteúdo do _DataFrame_, retornando as 5 primeiras linhas"
      ]
    },
    {
      "cell_type": "code",
      "metadata": {
        "id": "lbx1lnpU1ICv",
        "outputId": "6c3ce384-7fb6-494f-f0de-9281e87800ba",
        "colab": {
          "base_uri": "https://localhost:8080/",
          "height": 141
        }
      },
      "source": [
        "wine_reviews.head()"
      ],
      "execution_count": 38,
      "outputs": [
        {
          "output_type": "execute_result",
          "data": {
            "text/html": [
              "<div>\n",
              "<style scoped>\n",
              "    .dataframe tbody tr th:only-of-type {\n",
              "        vertical-align: middle;\n",
              "    }\n",
              "\n",
              "    .dataframe tbody tr th {\n",
              "        vertical-align: top;\n",
              "    }\n",
              "\n",
              "    .dataframe thead th {\n",
              "        text-align: right;\n",
              "    }\n",
              "</style>\n",
              "<table border=\"1\" class=\"dataframe\">\n",
              "  <thead>\n",
              "    <tr style=\"text-align: right;\">\n",
              "      <th></th>\n",
              "      <th>Product A</th>\n",
              "      <th>Product B</th>\n",
              "      <th>Product C</th>\n",
              "    </tr>\n",
              "  </thead>\n",
              "  <tbody>\n",
              "    <tr>\n",
              "      <th>0</th>\n",
              "      <td>30</td>\n",
              "      <td>21</td>\n",
              "      <td>9</td>\n",
              "    </tr>\n",
              "    <tr>\n",
              "      <th>1</th>\n",
              "      <td>35</td>\n",
              "      <td>34</td>\n",
              "      <td>1</td>\n",
              "    </tr>\n",
              "    <tr>\n",
              "      <th>2</th>\n",
              "      <td>41</td>\n",
              "      <td>11</td>\n",
              "      <td>11</td>\n",
              "    </tr>\n",
              "  </tbody>\n",
              "</table>\n",
              "</div>"
            ],
            "text/plain": [
              "   Product A  Product B  Product C\n",
              "0         30         21          9\n",
              "1         35         34          1\n",
              "2         41         11         11"
            ]
          },
          "metadata": {},
          "execution_count": 38
        }
      ]
    },
    {
      "cell_type": "markdown",
      "metadata": {
        "id": "c7JhQ6fu2nqJ"
      },
      "source": [
        "- ```index_col``` fará com que a coluna informada seja considerada como indice"
      ]
    },
    {
      "cell_type": "code",
      "metadata": {
        "id": "CnisuG0w2gXo",
        "outputId": "3a1039b4-f40e-4e7e-a227-659c5a1f8759",
        "colab": {
          "base_uri": "https://localhost:8080/",
          "height": 171
        }
      },
      "source": [
        "wine_reviews = pd.read_csv(\"winemag-data-130k-v2.csv\", index_col = 0)\n",
        "wine_reviews.head()"
      ],
      "execution_count": 43,
      "outputs": [
        {
          "output_type": "execute_result",
          "data": {
            "text/html": [
              "<div>\n",
              "<style scoped>\n",
              "    .dataframe tbody tr th:only-of-type {\n",
              "        vertical-align: middle;\n",
              "    }\n",
              "\n",
              "    .dataframe tbody tr th {\n",
              "        vertical-align: top;\n",
              "    }\n",
              "\n",
              "    .dataframe thead th {\n",
              "        text-align: right;\n",
              "    }\n",
              "</style>\n",
              "<table border=\"1\" class=\"dataframe\">\n",
              "  <thead>\n",
              "    <tr style=\"text-align: right;\">\n",
              "      <th></th>\n",
              "      <th>Product A</th>\n",
              "      <th>Product B</th>\n",
              "    </tr>\n",
              "    <tr>\n",
              "      <th>Product C</th>\n",
              "      <th></th>\n",
              "      <th></th>\n",
              "    </tr>\n",
              "  </thead>\n",
              "  <tbody>\n",
              "    <tr>\n",
              "      <th>9</th>\n",
              "      <td>30</td>\n",
              "      <td>21</td>\n",
              "    </tr>\n",
              "    <tr>\n",
              "      <th>1</th>\n",
              "      <td>35</td>\n",
              "      <td>34</td>\n",
              "    </tr>\n",
              "    <tr>\n",
              "      <th>11</th>\n",
              "      <td>41</td>\n",
              "      <td>11</td>\n",
              "    </tr>\n",
              "  </tbody>\n",
              "</table>\n",
              "</div>"
            ],
            "text/plain": [
              "           Product A  Product B\n",
              "Product C                      \n",
              "9                 30         21\n",
              "1                 35         34\n",
              "11                41         11"
            ]
          },
          "metadata": {},
          "execution_count": 43
        }
      ]
    }
  ]
}